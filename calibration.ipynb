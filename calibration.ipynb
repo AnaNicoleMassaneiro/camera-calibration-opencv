{
 "cells": [
  {
   "cell_type": "code",
   "execution_count": 1,
   "id": "efc541bf-2233-4e05-8523-01639f9ab371",
   "metadata": {},
   "outputs": [],
   "source": [
    "import cv2\n",
    "import numpy as np\n",
    "import matplotlib.pyplot as plt"
   ]
  },
  {
   "cell_type": "code",
   "execution_count": 2,
   "id": "7a14b8df-7cf5-466e-bf3b-f84b11f76bf7",
   "metadata": {},
   "outputs": [],
   "source": [
    "# Definindo o tamanho do tabuleiro quadriculado (número de quadrados internos)\n",
    "# e o tamanho do quadrado em milímetros\n",
    "board_w = 6\n",
    "board_h = 9\n",
    "square_size = 30  # milímetros"
   ]
  },
  {
   "cell_type": "code",
   "execution_count": 3,
   "id": "ca3a8d5f-4543-4e18-aa57-ba5e9ad4dbfe",
   "metadata": {},
   "outputs": [],
   "source": [
    "# Criando uma matriz de coordenadas do objeto\n",
    "objp = np.zeros((board_w * board_h, 3), np.float32)\n",
    "objp[:,:2] = np.mgrid[0:board_w,0:board_h].T.reshape(-1,2)\n",
    "objp *= square_size"
   ]
  },
  {
   "cell_type": "code",
   "execution_count": 4,
   "id": "a1221d0c-c112-4368-9ed6-8d03601db858",
   "metadata": {},
   "outputs": [],
   "source": [
    "# Criando uma imagem em branco para o padrão de calibração\n",
    "img_size = (board_h * square_size, board_w * square_size)\n",
    "img = np.zeros(img_size[::-1], dtype=np.uint8)\n",
    "\n",
    "# Desenhando um tabuleiro quadriculado na imagem\n",
    "img[::2*square_size, 1::2*square_size] = 255\n",
    "img[1::2*square_size, ::2*square_size] = 255"
   ]
  },
  {
   "cell_type": "code",
   "execution_count": 5,
   "id": "582fec90-548f-41fb-98e7-e1330ccbc4fa",
   "metadata": {},
   "outputs": [
    {
     "data": {
      "text/plain": [
       "True"
      ]
     },
     "execution_count": 5,
     "metadata": {},
     "output_type": "execute_result"
    }
   ],
   "source": [
    "cv2.imwrite('calibration_pattern.png', img)"
   ]
  },
  {
   "cell_type": "code",
   "execution_count": 6,
   "id": "6cc60a06-dc89-4142-b7f1-5c0325e4b4e2",
   "metadata": {},
   "outputs": [
    {
     "data": {
      "image/png": "[encoded data removed]",
      "text/plain": [
       "<Figure size 640x480 with 1 Axes>"
      ]
     },
     "metadata": {},
     "output_type": "display_data"
    }
   ],
   "source": [
    "plt.imshow(img, cmap='gray')\n",
    "plt.axis('off')\n",
    "plt.show()"
   ]
  },
  {
   "cell_type": "code",
   "execution_count": null,
   "id": "79bece5f-1187-4bf3-988d-6d44c48f87cd",
   "metadata": {},
   "outputs": [],
   "source": []
  }
 ],
 "metadata": {
  "kernelspec": {
   "display_name": "Python 3 (ipykernel)",
   "language": "python",
   "name": "python3"
  },
  "language_info": {
   "codemirror_mode": {
    "name": "ipython",
    "version": 3
   },
   "file_extension": ".py",
   "mimetype": "text/x-python",
   "name": "python",
   "nbconvert_exporter": "python",
   "pygments_lexer": "ipython3",
   "version": "3.10.9"
  }
 },
 "nbformat": 4,
 "nbformat_minor": 5
}
